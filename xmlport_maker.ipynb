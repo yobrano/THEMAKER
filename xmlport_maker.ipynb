{
 "cells": [
  {
   "cell_type": "code",
   "execution_count": 12,
   "metadata": {},
   "outputs": [],
   "source": [
    "import pandas as pd\n",
    "import uuid\n",
    "import string\n",
    "import os"
   ]
  },
  {
   "cell_type": "markdown",
   "metadata": {},
   "source": [
    "## script parameters."
   ]
  },
  {
   "cell_type": "code",
   "execution_count": 8,
   "metadata": {},
   "outputs": [],
   "source": [
    "table_name = \"Human Resources Setup\"\n",
    "table_id = \"5218\"\n",
    "xml_port_id = \"51000\"\n",
    "exported_table_file_path = \"report_reader/Human Resource Setup.csv\"\n",
    "output_file_path = \"report_reader/outer.txt\"\n"
   ]
  },
  {
   "cell_type": "markdown",
   "metadata": {},
   "source": [
    "## Functions definations"
   ]
  },
  {
   "cell_type": "code",
   "execution_count": 9,
   "metadata": {},
   "outputs": [],
   "source": [
    "def clean_str(text):\n",
    "    punctuation = string.punctuation + \" \"\n",
    "    punctuation = punctuation.replace(\".\", \"\")\n",
    "    for char in punctuation:\n",
    "        if char in punctuation:\n",
    "            text = text.replace(char, \"\")\n",
    "    return text\n",
    "\n",
    "def make_elem(row):\n",
    "    field_name, data_type = row[[\"Field Name\",\"Data Type\"]]\n",
    "    uuid_code = str(uuid.uuid4()).upper()\n",
    "    elem = \"    { [{\"+uuid_code+\"}];2 ;\"+clean_str(field_name)+\";Element ;Field   ;DataType=\"+data_type+\"; SourceField=\"+table_name+\"::\"+field_name+\" }\"\n",
    "    return elem\n",
    "\n",
    "def gen_elements(df):\n",
    "    return \"\\n\".join(df.apply(make_elem, axis=1).to_list())"
   ]
  },
  {
   "cell_type": "markdown",
   "metadata": {},
   "source": [
    "## Generate xmlport and save it out. "
   ]
  },
  {
   "cell_type": "code",
   "execution_count": 13,
   "metadata": {},
   "outputs": [
    {
     "name": "stdout",
     "output_type": "stream",
     "text": [
      "Created and saved at 'report_reader/outer.txt'!!\n"
     ]
    },
    {
     "data": {
      "text/plain": [
       "0"
      ]
     },
     "execution_count": 13,
     "metadata": {},
     "output_type": "execute_result"
    }
   ],
   "source": [
    "df = pd.read_csv(exported_table_file_path)\n",
    "elem = gen_elements(df)\n",
    "\n",
    "content = \"\"\"\n",
    "OBJECT XMLport \"\"\"+xml_port_id+\"\"\" Import HRSetup\n",
    "{\n",
    "  OBJECT-PROPERTIES\n",
    "  {\n",
    "    Date=25/10/16;\n",
    "    Time=12:00:00;\n",
    "    Version List=NAVW110.0;\n",
    "  }\n",
    "  PROPERTIES\n",
    "  {\n",
    "    CaptionML=ENU=Import Payroll;\n",
    "    Direction=Import;\n",
    "    Format/Evaluate=C/SIDE Format/Evaluate;\n",
    "    TextEncoding=WINDOWS;\n",
    "    OnInitXMLport=BEGIN\n",
    "                    I := 0;\n",
    "                  END;\n",
    "\n",
    "    Format=Variable Text;\n",
    "    FieldDelimiter=<None>;\n",
    "    FieldSeparator=<TAB>;\n",
    "  }\n",
    "  ELEMENTS\n",
    "  {\n",
    "    { [{C39C2F1A-F410-4CD3-B5A2-EA812345D9CB}];  ;Root                ;Element ;Text     }\n",
    "\n",
    "    { [{04E61061-50EA-4A5C-B805-9F8582579ADB}];1 ;\"\"\"+clean_str(table_name)+\"\"\"       ;Element ;Table   ;\n",
    "                                                  SourceTable=Table\"\"\"+table_id+\"\"\";\n",
    "                                                  Import::OnBeforeInsertRecord=BEGIN\n",
    "                                                                                 \n",
    "                                                                               END;\n",
    "                                                                                }\n",
    "\"\"\" + elem + \"\"\"\n",
    " }\n",
    "  EVENTS\n",
    "  {\n",
    "  }\n",
    "  REQUESTPAGE\n",
    "  {\n",
    "    PROPERTIES\n",
    "    {\n",
    "    }\n",
    "    CONTROLS\n",
    "    {\n",
    "    }\n",
    "  }\n",
    "  CODE\n",
    "  {\n",
    "    VAR\n",
    "      I@1000 : Integer;\n",
    "\n",
    "    BEGIN\n",
    "    END.\n",
    "  }\n",
    "}\n",
    "\"\"\"\n",
    "\n",
    "with open(output_file_path, \"w\") as f:\n",
    "    f.write(content)\n",
    "    \n",
    "print(f\"Created and saved at '{output_file_path}'!!\")\n",
    "os.system(\"notepad \"+output_file_path)"
   ]
  },
  {
   "cell_type": "code",
   "execution_count": null,
   "metadata": {},
   "outputs": [],
   "source": []
  }
 ],
 "metadata": {
  "kernelspec": {
   "display_name": "root",
   "language": "python",
   "name": "python3"
  },
  "language_info": {
   "codemirror_mode": {
    "name": "ipython",
    "version": 3
   },
   "file_extension": ".py",
   "mimetype": "text/x-python",
   "name": "python",
   "nbconvert_exporter": "python",
   "pygments_lexer": "ipython3",
   "version": "3.12.1"
  }
 },
 "nbformat": 4,
 "nbformat_minor": 2
}
