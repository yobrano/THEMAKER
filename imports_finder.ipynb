{
 "cells": [
  {
   "cell_type": "code",
   "execution_count": null,
   "metadata": {},
   "outputs": [],
   "source": [
    "import re\n",
    "import pandas as pd\n"
   ]
  },
  {
   "cell_type": "code",
   "execution_count": 9,
   "metadata": {},
   "outputs": [],
   "source": [
    "\n",
    "with open(\"report_reader/leave_application_card.txt\", \"r\") as f:\n",
    "    content = f.read()\n",
    "\n",
    "\n",
    "tables = re.findall(\"Table[0-9]+\", content)\n",
    "tables= [[table.replace(\"Table\", \"\"), \"RECORD\"]for table in tables]\n",
    "\n",
    "records = re.findall(\"Record [0-9]+\", content)\n",
    "records= [[record.replace(\"Record \", \"\"), \"RECORD\"]for record in records]\n",
    "\n",
    "code_units = re.findall(\"Codeunit [0-9]+\", content)\n",
    "code_units = [[code_unit.replace(\"Codeunit \", \"\"), \"CODE-UNIT\"]for code_unit in code_units]\n",
    "\n",
    "XMLports = re.findall(\"XMLport [0-9]+\", content)\n",
    "XMLports= [[XMLport.replace(\"XMLport \", \"\"), \"XML-PORT\"]for XMLport in XMLports]\n",
    "\n",
    "pages = re.findall(\"Page [0-9]+\", content)\n",
    "pages= [[page.replace(\"Page \", \"\"), \"PAGE\"]for page in pages]\n",
    "\n",
    "queries = re.findall(\"Query [0-9]+\", content)\n",
    "queries = [[query.replace(\"Query \", \"\"), \"QUERY\"]for query in queries]"
   ]
  },
  {
   "cell_type": "code",
   "execution_count": 10,
   "metadata": {},
   "outputs": [
    {
     "name": "stdout",
     "output_type": "stream",
     "text": [
      "15 Objects were found.\n"
     ]
    }
   ],
   "source": [
    "objects_to_import = [*tables, *records, *code_units, *XMLports, *pages, *queries]\n",
    "df = pd.DataFrame(objects_to_import, columns = [\"ID\", \"Category\"])\n",
    "df.to_csv(\"report_reader/imports.csv\", index= False)\n",
    "print(\"{0} Objects were found.\".format(df.shape[0]))"
   ]
  },
  {
   "cell_type": "code",
   "execution_count": 2,
   "metadata": {},
   "outputs": [
    {
     "data": {
      "text/plain": [
       "(14, 2)"
      ]
     },
     "execution_count": 2,
     "metadata": {},
     "output_type": "execute_result"
    }
   ],
   "source": []
  },
  {
   "cell_type": "code",
   "execution_count": null,
   "metadata": {},
   "outputs": [],
   "source": []
  }
 ],
 "metadata": {
  "kernelspec": {
   "display_name": "root",
   "language": "python",
   "name": "python3"
  },
  "language_info": {
   "codemirror_mode": {
    "name": "ipython",
    "version": 3
   },
   "file_extension": ".py",
   "mimetype": "text/x-python",
   "name": "python",
   "nbconvert_exporter": "python",
   "pygments_lexer": "ipython3",
   "version": "3.12.1"
  }
 },
 "nbformat": 4,
 "nbformat_minor": 2
}
